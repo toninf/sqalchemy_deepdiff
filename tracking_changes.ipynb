{
 "cells": [
  {
   "cell_type": "markdown",
   "metadata": {},
   "source": [
    "📦 1. Imports and Setup"
   ]
  },
  {
   "cell_type": "code",
   "execution_count": 1,
   "metadata": {},
   "outputs": [],
   "source": [
    "# Import necessary libraries\n",
    "from sqlalchemy import Column, Integer, String, ForeignKey, Date, JSON, create_engine\n",
    "from sqlalchemy.orm import relationship, declarative_base, sessionmaker\n",
    "from pydantic import BaseModel, field_serializer\n",
    "from typing import List\n",
    "from datetime import date\n",
    "from deepdiff import DeepDiff, Delta\n",
    "from pprint import pprint\n",
    "\n",
    "# Initialize SQLAlchemy Base\n",
    "Base = declarative_base()"
   ]
  },
  {
   "cell_type": "markdown",
   "metadata": {},
   "source": [
    "🚗 2. Define SQLAlchemy Models\n"
   ]
  },
  {
   "cell_type": "code",
   "execution_count": 2,
   "metadata": {},
   "outputs": [],
   "source": [
    "# Define Car model\n",
    "class Car(Base):\n",
    "    __tablename__ = 'cars'\n",
    "    id = Column(Integer, primary_key=True)\n",
    "    license_plate = Column(String, unique=True, nullable=False)\n",
    "    model = Column(String, nullable=False)\n",
    "    \n",
    "    # 1:N relationships\n",
    "    service_records = relationship('ServiceRecord', back_populates='car')\n",
    "    car_historic = relationship('CarHistoric', back_populates='car')\n",
    "\n",
    "\n",
    "# Define Collaborator model\n",
    "class Collaborator(Base):\n",
    "    __tablename__ = 'collaborators'\n",
    "    id = Column(Integer, primary_key=True)\n",
    "    name = Column(String, nullable=False)\n",
    "    \n",
    "    # 1:N relationship\n",
    "    service_records = relationship('ServiceRecord', back_populates='service_manager')\n",
    "\n",
    "\n",
    "# Define ServiceRecord model\n",
    "class ServiceRecord(Base):\n",
    "    __tablename__ = 'service_records'\n",
    "    id = Column(Integer, primary_key=True)\n",
    "    service_date = Column(Date)\n",
    "    description = Column(String)\n",
    "    car_id = Column(Integer, ForeignKey('cars.id'))\n",
    "    service_manager_id = Column(Integer, ForeignKey('collaborators.id'))\n",
    "    \n",
    "    car = relationship('Car', back_populates='service_records')\n",
    "    service_manager = relationship('Collaborator', back_populates='service_records')\n",
    "\n",
    "\n",
    "# Define CarHistoric model for tracking changes\n",
    "class CarHistoric(Base):\n",
    "    __tablename__ = 'car_change_logs'\n",
    "    id = Column(Integer, primary_key=True)\n",
    "    change_date = Column(Date)\n",
    "    changes = Column(JSON)\n",
    "    car_id = Column(Integer, ForeignKey('cars.id'))\n",
    "    \n",
    "    car = relationship('Car', back_populates='car_historic')\n"
   ]
  },
  {
   "cell_type": "markdown",
   "metadata": {},
   "source": [
    "🏗️ 3. Define Pydantic Schemas"
   ]
  },
  {
   "cell_type": "code",
   "execution_count": 3,
   "metadata": {},
   "outputs": [],
   "source": [
    "# Collaborator Pydantic schema\n",
    "class CollaboratorSchema(BaseModel):\n",
    "    id: int\n",
    "    name: str\n",
    "    \n",
    "    class Config:\n",
    "        from_attributes = True\n",
    "\n",
    "\n",
    "# ServiceRecord Pydantic schema with custom date serializer\n",
    "class ServiceRecordSchema(BaseModel):\n",
    "    id: int\n",
    "    service_date: date\n",
    "    description: str\n",
    "    service_manager: CollaboratorSchema\n",
    "\n",
    "    @field_serializer(\"service_date\")\n",
    "    def serialize_service_date(self, service_date: date) -> str:\n",
    "        return service_date.isoformat()\n",
    "    \n",
    "    class Config:\n",
    "        from_attributes = True\n",
    "\n",
    "\n",
    "# Car Pydantic schema with helper to convert from schema to SQLAlchemy object\n",
    "class CarSchema(BaseModel):\n",
    "    id: int\n",
    "    license_plate: str\n",
    "    model: str\n",
    "    service_records: List[ServiceRecordSchema] = []\n",
    "    \n",
    "    def car_from_schema(car_schema) -> Car:\n",
    "        car_instance = Car(\n",
    "            id=car_schema['id'],\n",
    "            license_plate=car_schema['license_plate'],\n",
    "            model=car_schema['model']\n",
    "        )\n",
    "        for sr_data in car_schema['service_records']:\n",
    "            sm_data = sr_data['service_manager']\n",
    "            service_manager = Collaborator(id=sm_data['id'], name=sm_data['name'])\n",
    "            service_record = ServiceRecord(\n",
    "                id=sr_data['id'],\n",
    "                service_date=date.fromisoformat(sr_data['service_date']),\n",
    "                description=sr_data['description'],\n",
    "                service_manager=service_manager\n",
    "            )\n",
    "            car_instance.service_records.append(service_record)\n",
    "        return car_instance\n",
    "\n",
    "    class Config:\n",
    "        from_attributes = True\n"
   ]
  },
  {
   "cell_type": "markdown",
   "metadata": {},
   "source": [
    "💾 4. Database Setup"
   ]
  },
  {
   "cell_type": "code",
   "execution_count": 4,
   "metadata": {},
   "outputs": [],
   "source": [
    "# SQLite database setup\n",
    "DATABASE_URL = \"sqlite:///./database.db\"\n",
    "engine = create_engine(DATABASE_URL, connect_args={\"check_same_thread\": False})\n",
    "SessionLocal = sessionmaker(autocommit=False, autoflush=False, bind=engine)\n",
    "\n",
    "# Reset and create tables\n",
    "Base.metadata.drop_all(bind=engine)\n",
    "Base.metadata.create_all(bind=engine)\n"
   ]
  },
  {
   "cell_type": "markdown",
   "metadata": {},
   "source": [
    "🚀 5. Insert Initial Data"
   ]
  },
  {
   "cell_type": "code",
   "execution_count": 5,
   "metadata": {},
   "outputs": [],
   "source": [
    "# Initialize DB session\n",
    "db = SessionLocal()\n",
    "\n",
    "# Create sample Car and Collaborator\n",
    "new_car = Car(id=1, license_plate=\"ABC123\", model=\"Toyota Corolla\")\n",
    "collaborator_1 = Collaborator(id=1, name=\"John Doe\")\n",
    "\n",
    "db.add_all([new_car, collaborator_1])\n",
    "db.commit()\n"
   ]
  },
  {
   "cell_type": "markdown",
   "metadata": {},
   "source": [
    "🔧 6. Add Service Record"
   ]
  },
  {
   "cell_type": "code",
   "execution_count": 6,
   "metadata": {},
   "outputs": [],
   "source": [
    "# Add a new service record for the car\n",
    "new_service_record = ServiceRecord(\n",
    "    id=1,\n",
    "    service_date=date(2025, 5, 5),\n",
    "    description=\"Oil change\",\n",
    "    car=new_car,\n",
    "    service_manager=collaborator_1\n",
    ")\n",
    "\n",
    "db.add(new_service_record)\n",
    "db.commit()\n",
    "db.refresh(new_service_record)\n"
   ]
  },
  {
   "cell_type": "markdown",
   "metadata": {},
   "source": [
    "📦 7. Serialize and Capture Initial State"
   ]
  },
  {
   "cell_type": "code",
   "execution_count": 7,
   "metadata": {},
   "outputs": [
    {
     "name": "stdout",
     "output_type": "stream",
     "text": [
      "First version:\n",
      "{'id': 1, 'license_plate': 'ABC123', 'model': 'Toyota Corolla', 'service_records': [{'id': 1, 'service_date': '2025-05-05', 'description': 'Oil change', 'service_manager': {'id': 1, 'name': 'John Doe'}}]}\n"
     ]
    }
   ],
   "source": [
    "# Serialize Car to schema and dump to dict\n",
    "car_schema_v1 = CarSchema.model_validate(new_car)\n",
    "car_dump_v1 = car_schema_v1.model_dump()\n",
    "print(f'First version:\\n{car_dump_v1}')\n"
   ]
  },
  {
   "cell_type": "markdown",
   "metadata": {},
   "source": [
    "✏️ 8. Modify Data and Capture Changes\n"
   ]
  },
  {
   "cell_type": "code",
   "execution_count": 8,
   "metadata": {},
   "outputs": [
    {
     "name": "stdout",
     "output_type": "stream",
     "text": [
      "Updated version:\n",
      "{'id': 1, 'license_plate': 'ABC123', 'model': 'Toyota Corolla', 'service_records': [{'id': 1, 'service_date': '2027-07-07', 'description': 'Oil change', 'service_manager': {'id': 1, 'name': 'John Doe'}}]}\n"
     ]
    }
   ],
   "source": [
    "# Update service date\n",
    "new_service_record.service_date = date(2027, 7, 7)\n",
    "db.commit()\n",
    "\n",
    "# Serialize updated state\n",
    "car_schema_v2 = CarSchema.model_validate(new_car)\n",
    "car_dump_v2 = car_schema_v2.model_dump()\n",
    "print(f'Updated version:\\n{car_dump_v2}')\n"
   ]
  },
  {
   "cell_type": "markdown",
   "metadata": {},
   "source": [
    "🔍 9. Compute Differences"
   ]
  },
  {
   "cell_type": "code",
   "execution_count": 9,
   "metadata": {},
   "outputs": [
    {
     "name": "stdout",
     "output_type": "stream",
     "text": [
      "Differences detected:\n",
      "{'values_changed': {\"root['service_records'][0]['service_date']\": {'new_value': '2027-07-07', 'old_value': '2025-05-05'}}}\n"
     ]
    }
   ],
   "source": [
    "\n",
    "\n",
    "# Calculate differences between versions\n",
    "diff = DeepDiff(car_dump_v1, car_dump_v2, ignore_order=True, report_repetition=True)\n",
    "print(f'Differences detected:\\n{diff}')"
   ]
  },
  {
   "cell_type": "markdown",
   "metadata": {},
   "source": [
    "📝 10. Log Historic Changes\n"
   ]
  },
  {
   "cell_type": "code",
   "execution_count": 10,
   "metadata": {},
   "outputs": [],
   "source": [
    "# Log differences in CarHistoric\n",
    "car_historic = CarHistoric(\n",
    "    change_date=date.today(),\n",
    "    changes=diff,\n",
    "    car=new_car\n",
    ")\n",
    "db.add(car_historic)\n",
    "db.commit()"
   ]
  },
  {
   "cell_type": "markdown",
   "metadata": {},
   "source": [
    "⏪ 11. Rollback Changes"
   ]
  },
  {
   "cell_type": "code",
   "execution_count": 11,
   "metadata": {},
   "outputs": [
    {
     "name": "stdout",
     "output_type": "stream",
     "text": [
      "Rollback state:\n",
      "{'id': 1, 'license_plate': 'ABC123', 'model': 'Toyota Corolla', 'service_records': [{'id': 1, 'service_date': '2025-05-05', 'description': 'Oil change', 'service_manager': {'id': 1, 'name': 'John Doe'}}]}\n",
      "Successfully rolled back to:\n",
      "{'id': 1, 'license_plate': 'ABC123', 'model': 'Toyota Corolla', 'service_records': [{'id': 1, 'service_date': '2025-05-05', 'description': 'Oil change', 'service_manager': {'id': 1, 'name': 'John Doe'}}]}\n"
     ]
    }
   ],
   "source": [
    "# Compute delta and rollback changes\n",
    "delta = Delta(diff, bidirectional=True)\n",
    "rollback_changes = car_dump_v2 - delta\n",
    "print(f'Rollback state:\\n{rollback_changes}')\n",
    "\n",
    "# Convert rolled-back schema to Car object and update DB\n",
    "car_rollback = CarSchema.car_from_schema(rollback_changes)\n",
    "db.merge(car_rollback)\n",
    "db.commit()\n",
    "print(f'Successfully rolled back to:\\n{car_dump_v1}')"
   ]
  }
 ],
 "metadata": {
  "kernelspec": {
   "display_name": ".venv",
   "language": "python",
   "name": "python3"
  },
  "language_info": {
   "codemirror_mode": {
    "name": "ipython",
    "version": 3
   },
   "file_extension": ".py",
   "mimetype": "text/x-python",
   "name": "python",
   "nbconvert_exporter": "python",
   "pygments_lexer": "ipython3",
   "version": "3.9.6"
  }
 },
 "nbformat": 4,
 "nbformat_minor": 2
}
